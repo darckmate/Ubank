{
 "cells": [
  {
   "cell_type": "code",
   "execution_count": 6,
   "id": "f784bc40",
   "metadata": {},
   "outputs": [],
   "source": [
    "#imports \n",
    "import pandas as pd\n",
    "import numpy as np\n",
    "import math as mt\n",
    "from random import sample\n",
    "import matplotlib.pyplot as plt\n",
    "from matplotlib import style\n",
    "style.use('ggplot') or plt.style.use('ggplot')\n",
    "from sklearn.cluster import DBSCAN\n",
    "from sklearn.preprocessing import scale\n",
    "from sklearn.preprocessing import StandardScaler\n",
    "from sklearn.metrics import silhouette_score\n",
    "from sklearn import metrics\n",
    "import seaborn as sns\n",
    "import scipy.stats as st\n",
    "from scipy.spatial import distance_matrix\n",
    "from scipy.spatial import distance\n",
    "from sklearn.neighbors import NearestNeighbors\n",
    "from sklearn.datasets import make_blobs\n",
    "import warnings\n",
    "warnings.filterwarnings('ignore')"
   ]
  },
  {
   "cell_type": "code",
   "execution_count": 7,
   "id": "0cb0bdc3",
   "metadata": {},
   "outputs": [],
   "source": [
    "catalog = pd.read_csv(\"catalog.csv\", sep=',')\n",
    "test_projects = pd.read_csv(\"test_projects.csv\", sep=',')\n",
    "test_rules = pd.read_csv(\"test_rules.csv\", sep=',')\n",
    "test_transactions = pd.read_csv(\"test_transactions.csv\", sep=',')"
   ]
  },
  {
   "cell_type": "code",
   "execution_count": 8,
   "id": "65fdf61b",
   "metadata": {},
   "outputs": [
    {
     "data": {
      "text/html": [
       "<div>\n",
       "<style scoped>\n",
       "    .dataframe tbody tr th:only-of-type {\n",
       "        vertical-align: middle;\n",
       "    }\n",
       "\n",
       "    .dataframe tbody tr th {\n",
       "        vertical-align: top;\n",
       "    }\n",
       "\n",
       "    .dataframe thead th {\n",
       "        text-align: right;\n",
       "    }\n",
       "</style>\n",
       "<table border=\"1\" class=\"dataframe\">\n",
       "  <thead>\n",
       "    <tr style=\"text-align: right;\">\n",
       "      <th></th>\n",
       "      <th>id</th>\n",
       "      <th>name</th>\n",
       "      <th>type</th>\n",
       "    </tr>\n",
       "  </thead>\n",
       "  <tbody>\n",
       "    <tr>\n",
       "      <th>0</th>\n",
       "      <td>015981e401af4887becbec5f45c3cd4c</td>\n",
       "      <td>Vehiculo</td>\n",
       "      <td>project_categories</td>\n",
       "    </tr>\n",
       "    <tr>\n",
       "      <th>1</th>\n",
       "      <td>4500593565e942d9876fa73734336157</td>\n",
       "      <td>Solo ahorrar</td>\n",
       "      <td>project_categories</td>\n",
       "    </tr>\n",
       "    <tr>\n",
       "      <th>2</th>\n",
       "      <td>6f3c645d720140d0be6063b26b1c423d</td>\n",
       "      <td>Otro</td>\n",
       "      <td>project_categories</td>\n",
       "    </tr>\n",
       "    <tr>\n",
       "      <th>3</th>\n",
       "      <td>b252b4300a02483eb15812ff9e03b841</td>\n",
       "      <td>Comprar algo</td>\n",
       "      <td>project_categories</td>\n",
       "    </tr>\n",
       "    <tr>\n",
       "      <th>4</th>\n",
       "      <td>c173854d8d994c5cad7926cedb6b8770</td>\n",
       "      <td>Viajar</td>\n",
       "      <td>project_categories</td>\n",
       "    </tr>\n",
       "  </tbody>\n",
       "</table>\n",
       "</div>"
      ],
      "text/plain": [
       "                                 id          name                type\n",
       "0  015981e401af4887becbec5f45c3cd4c      Vehiculo  project_categories\n",
       "1  4500593565e942d9876fa73734336157  Solo ahorrar  project_categories\n",
       "2  6f3c645d720140d0be6063b26b1c423d          Otro  project_categories\n",
       "3  b252b4300a02483eb15812ff9e03b841  Comprar algo  project_categories\n",
       "4  c173854d8d994c5cad7926cedb6b8770        Viajar  project_categories"
      ]
     },
     "execution_count": 8,
     "metadata": {},
     "output_type": "execute_result"
    }
   ],
   "source": [
    "catalog.head()"
   ]
  },
  {
   "cell_type": "code",
   "execution_count": 9,
   "id": "d7543d17",
   "metadata": {},
   "outputs": [
    {
     "data": {
      "text/html": [
       "<div>\n",
       "<style scoped>\n",
       "    .dataframe tbody tr th:only-of-type {\n",
       "        vertical-align: middle;\n",
       "    }\n",
       "\n",
       "    .dataframe tbody tr th {\n",
       "        vertical-align: top;\n",
       "    }\n",
       "\n",
       "    .dataframe thead th {\n",
       "        text-align: right;\n",
       "    }\n",
       "</style>\n",
       "<table border=\"1\" class=\"dataframe\">\n",
       "  <thead>\n",
       "    <tr style=\"text-align: right;\">\n",
       "      <th></th>\n",
       "      <th>project_id</th>\n",
       "      <th>name</th>\n",
       "      <th>goal_date</th>\n",
       "      <th>user_id</th>\n",
       "      <th>project_category_id</th>\n",
       "      <th>total</th>\n",
       "    </tr>\n",
       "  </thead>\n",
       "  <tbody>\n",
       "    <tr>\n",
       "      <th>0</th>\n",
       "      <td>7593859139ff4b00b09c6a5c2d7d4602</td>\n",
       "      <td>Hogar</td>\n",
       "      <td>2020-06-02 00:00:00.0</td>\n",
       "      <td>700b1ad8bcb948d2b948c20d8e4160cd</td>\n",
       "      <td>edd09901ae364ddb80347e40005d2244</td>\n",
       "      <td>5000.0</td>\n",
       "    </tr>\n",
       "    <tr>\n",
       "      <th>1</th>\n",
       "      <td>d48cd6721a8b42ccac581ea388250e47</td>\n",
       "      <td>Enero</td>\n",
       "      <td>2020-01-16 00:00:00.0</td>\n",
       "      <td>cf91c22c0f7c4cc8917af73c1f0b7fa7</td>\n",
       "      <td>4500593565e942d9876fa73734336157</td>\n",
       "      <td>3000.0</td>\n",
       "    </tr>\n",
       "    <tr>\n",
       "      <th>2</th>\n",
       "      <td>c50f7a157b6048459590de84a14c7c1e</td>\n",
       "      <td>Solo guardar</td>\n",
       "      <td>2020-02-14 00:00:00.0</td>\n",
       "      <td>e4eb05de0b454a17b4f9f556bb70e9c1</td>\n",
       "      <td>4500593565e942d9876fa73734336157</td>\n",
       "      <td>5000.0</td>\n",
       "    </tr>\n",
       "    <tr>\n",
       "      <th>3</th>\n",
       "      <td>f712136baed347e6b5c0a07a9582d4ea</td>\n",
       "      <td>Comprar algo</td>\n",
       "      <td>2022-02-22 00:00:00.0</td>\n",
       "      <td>a821b4c74ec4467e9170db0a499fa082</td>\n",
       "      <td>b252b4300a02483eb15812ff9e03b841</td>\n",
       "      <td>5000.0</td>\n",
       "    </tr>\n",
       "    <tr>\n",
       "      <th>4</th>\n",
       "      <td>0baba95b627a42dbbaa7a4d5a0d49458</td>\n",
       "      <td>Ahorro</td>\n",
       "      <td>2021-01-09 00:00:00.0</td>\n",
       "      <td>2de353a9a926462d86a6009cabbfa1a4</td>\n",
       "      <td>4500593565e942d9876fa73734336157</td>\n",
       "      <td>40000.0</td>\n",
       "    </tr>\n",
       "  </tbody>\n",
       "</table>\n",
       "</div>"
      ],
      "text/plain": [
       "                         project_id          name              goal_date  \\\n",
       "0  7593859139ff4b00b09c6a5c2d7d4602         Hogar  2020-06-02 00:00:00.0   \n",
       "1  d48cd6721a8b42ccac581ea388250e47         Enero  2020-01-16 00:00:00.0   \n",
       "2  c50f7a157b6048459590de84a14c7c1e  Solo guardar  2020-02-14 00:00:00.0   \n",
       "3  f712136baed347e6b5c0a07a9582d4ea  Comprar algo  2022-02-22 00:00:00.0   \n",
       "4  0baba95b627a42dbbaa7a4d5a0d49458        Ahorro  2021-01-09 00:00:00.0   \n",
       "\n",
       "                            user_id               project_category_id    total  \n",
       "0  700b1ad8bcb948d2b948c20d8e4160cd  edd09901ae364ddb80347e40005d2244   5000.0  \n",
       "1  cf91c22c0f7c4cc8917af73c1f0b7fa7  4500593565e942d9876fa73734336157   3000.0  \n",
       "2  e4eb05de0b454a17b4f9f556bb70e9c1  4500593565e942d9876fa73734336157   5000.0  \n",
       "3  a821b4c74ec4467e9170db0a499fa082  b252b4300a02483eb15812ff9e03b841   5000.0  \n",
       "4  2de353a9a926462d86a6009cabbfa1a4  4500593565e942d9876fa73734336157  40000.0  "
      ]
     },
     "execution_count": 9,
     "metadata": {},
     "output_type": "execute_result"
    }
   ],
   "source": [
    "test_projects.head()"
   ]
  },
  {
   "cell_type": "code",
   "execution_count": 10,
   "id": "c5cd4317",
   "metadata": {},
   "outputs": [
    {
     "data": {
      "text/html": [
       "<div>\n",
       "<style scoped>\n",
       "    .dataframe tbody tr th:only-of-type {\n",
       "        vertical-align: middle;\n",
       "    }\n",
       "\n",
       "    .dataframe tbody tr th {\n",
       "        vertical-align: top;\n",
       "    }\n",
       "\n",
       "    .dataframe thead th {\n",
       "        text-align: right;\n",
       "    }\n",
       "</style>\n",
       "<table border=\"1\" class=\"dataframe\">\n",
       "  <thead>\n",
       "    <tr style=\"text-align: right;\">\n",
       "      <th></th>\n",
       "      <th>rule_id</th>\n",
       "      <th>project_id</th>\n",
       "      <th>rule_type_id</th>\n",
       "      <th>amount</th>\n",
       "      <th>frecuency</th>\n",
       "      <th>categories</th>\n",
       "    </tr>\n",
       "  </thead>\n",
       "  <tbody>\n",
       "    <tr>\n",
       "      <th>0</th>\n",
       "      <td>2f206c2f263f4332aa8985dbe25fc0b5</td>\n",
       "      <td>7593859139ff4b00b09c6a5c2d7d4602</td>\n",
       "      <td>c175e7bf6cf64677903bac9389a80cd9</td>\n",
       "      <td>10.0</td>\n",
       "      <td>0</td>\n",
       "      <td>NaN</td>\n",
       "    </tr>\n",
       "    <tr>\n",
       "      <th>1</th>\n",
       "      <td>7cffbe8d84534f489637b0ab8694f234</td>\n",
       "      <td>7593859139ff4b00b09c6a5c2d7d4602</td>\n",
       "      <td>b30b058a53634cbcb1f589af13e6689f</td>\n",
       "      <td>228.0</td>\n",
       "      <td>7</td>\n",
       "      <td>NaN</td>\n",
       "    </tr>\n",
       "    <tr>\n",
       "      <th>2</th>\n",
       "      <td>f7b9d06c8e4d42a0bc17012d72cbe7be</td>\n",
       "      <td>d48cd6721a8b42ccac581ea388250e47</td>\n",
       "      <td>8f6a28107c1641d5aff4a85972f5ee06</td>\n",
       "      <td>5.0</td>\n",
       "      <td>0</td>\n",
       "      <td>2cc2e29a-30ec-445f-a420-32b6039fa488</td>\n",
       "    </tr>\n",
       "    <tr>\n",
       "      <th>3</th>\n",
       "      <td>21ba2243d24b4f14982e491e30088e41</td>\n",
       "      <td>c50f7a157b6048459590de84a14c7c1e</td>\n",
       "      <td>b30b058a53634cbcb1f589af13e6689f</td>\n",
       "      <td>1667.0</td>\n",
       "      <td>15</td>\n",
       "      <td>NaN</td>\n",
       "    </tr>\n",
       "    <tr>\n",
       "      <th>4</th>\n",
       "      <td>9525ec3f7bba4d37a919453436419bbe</td>\n",
       "      <td>c50f7a157b6048459590de84a14c7c1e</td>\n",
       "      <td>75134d7134ed41f1a906d18a0710ad8e</td>\n",
       "      <td>20.0</td>\n",
       "      <td>0</td>\n",
       "      <td>NaN</td>\n",
       "    </tr>\n",
       "  </tbody>\n",
       "</table>\n",
       "</div>"
      ],
      "text/plain": [
       "                            rule_id                        project_id  \\\n",
       "0  2f206c2f263f4332aa8985dbe25fc0b5  7593859139ff4b00b09c6a5c2d7d4602   \n",
       "1  7cffbe8d84534f489637b0ab8694f234  7593859139ff4b00b09c6a5c2d7d4602   \n",
       "2  f7b9d06c8e4d42a0bc17012d72cbe7be  d48cd6721a8b42ccac581ea388250e47   \n",
       "3  21ba2243d24b4f14982e491e30088e41  c50f7a157b6048459590de84a14c7c1e   \n",
       "4  9525ec3f7bba4d37a919453436419bbe  c50f7a157b6048459590de84a14c7c1e   \n",
       "\n",
       "                       rule_type_id  amount  frecuency  \\\n",
       "0  c175e7bf6cf64677903bac9389a80cd9    10.0          0   \n",
       "1  b30b058a53634cbcb1f589af13e6689f   228.0          7   \n",
       "2  8f6a28107c1641d5aff4a85972f5ee06     5.0          0   \n",
       "3  b30b058a53634cbcb1f589af13e6689f  1667.0         15   \n",
       "4  75134d7134ed41f1a906d18a0710ad8e    20.0          0   \n",
       "\n",
       "                             categories  \n",
       "0                                   NaN  \n",
       "1                                   NaN  \n",
       "2  2cc2e29a-30ec-445f-a420-32b6039fa488  \n",
       "3                                   NaN  \n",
       "4                                   NaN  "
      ]
     },
     "execution_count": 10,
     "metadata": {},
     "output_type": "execute_result"
    }
   ],
   "source": [
    "test_rules.head()"
   ]
  },
  {
   "cell_type": "code",
   "execution_count": 11,
   "id": "15699947",
   "metadata": {},
   "outputs": [
    {
     "data": {
      "text/html": [
       "<div>\n",
       "<style scoped>\n",
       "    .dataframe tbody tr th:only-of-type {\n",
       "        vertical-align: middle;\n",
       "    }\n",
       "\n",
       "    .dataframe tbody tr th {\n",
       "        vertical-align: top;\n",
       "    }\n",
       "\n",
       "    .dataframe thead th {\n",
       "        text-align: right;\n",
       "    }\n",
       "</style>\n",
       "<table border=\"1\" class=\"dataframe\">\n",
       "  <thead>\n",
       "    <tr style=\"text-align: right;\">\n",
       "      <th></th>\n",
       "      <th>user_id</th>\n",
       "      <th>description</th>\n",
       "      <th>transaction_date</th>\n",
       "      <th>amount</th>\n",
       "    </tr>\n",
       "  </thead>\n",
       "  <tbody>\n",
       "    <tr>\n",
       "      <th>0</th>\n",
       "      <td>0001c38e1231436eb1218b4caf1090d6</td>\n",
       "      <td>OXXO MARIA</td>\n",
       "      <td>2019-12-06 00:00:00.0</td>\n",
       "      <td>-335.0</td>\n",
       "    </tr>\n",
       "    <tr>\n",
       "      <th>1</th>\n",
       "      <td>0001c38e1231436eb1218b4caf1090d6</td>\n",
       "      <td>LIVERPOOL MEXIC</td>\n",
       "      <td>2020-01-17 00:00:00.0</td>\n",
       "      <td>-1000.0</td>\n",
       "    </tr>\n",
       "    <tr>\n",
       "      <th>2</th>\n",
       "      <td>0001c38e1231436eb1218b4caf1090d6</td>\n",
       "      <td>ADYENMX*SPOTIFY</td>\n",
       "      <td>2019-11-30 00:00:00.0</td>\n",
       "      <td>-99.0</td>\n",
       "    </tr>\n",
       "    <tr>\n",
       "      <th>3</th>\n",
       "      <td>0001c38e1231436eb1218b4caf1090d6</td>\n",
       "      <td>BP*SERV PROFESI</td>\n",
       "      <td>2019-12-01 00:00:00.0</td>\n",
       "      <td>-562.0</td>\n",
       "    </tr>\n",
       "    <tr>\n",
       "      <th>4</th>\n",
       "      <td>0001c38e1231436eb1218b4caf1090d6</td>\n",
       "      <td>NETFLIX</td>\n",
       "      <td>2020-01-04 00:00:00.0</td>\n",
       "      <td>-169.0</td>\n",
       "    </tr>\n",
       "  </tbody>\n",
       "</table>\n",
       "</div>"
      ],
      "text/plain": [
       "                            user_id      description       transaction_date  \\\n",
       "0  0001c38e1231436eb1218b4caf1090d6       OXXO MARIA  2019-12-06 00:00:00.0   \n",
       "1  0001c38e1231436eb1218b4caf1090d6  LIVERPOOL MEXIC  2020-01-17 00:00:00.0   \n",
       "2  0001c38e1231436eb1218b4caf1090d6  ADYENMX*SPOTIFY  2019-11-30 00:00:00.0   \n",
       "3  0001c38e1231436eb1218b4caf1090d6  BP*SERV PROFESI  2019-12-01 00:00:00.0   \n",
       "4  0001c38e1231436eb1218b4caf1090d6          NETFLIX  2020-01-04 00:00:00.0   \n",
       "\n",
       "   amount  \n",
       "0  -335.0  \n",
       "1 -1000.0  \n",
       "2   -99.0  \n",
       "3  -562.0  \n",
       "4  -169.0  "
      ]
     },
     "execution_count": 11,
     "metadata": {},
     "output_type": "execute_result"
    }
   ],
   "source": [
    "test_transactions.head()"
   ]
  },
  {
   "cell_type": "markdown",
   "id": "5f0d8d95",
   "metadata": {},
   "source": [
    "Visualizacion inicial"
   ]
  },
  {
   "cell_type": "code",
   "execution_count": 12,
   "id": "c96341e4",
   "metadata": {},
   "outputs": [],
   "source": [
    "int_user_ids = [hash(uid) for uid in test_transactions[\"user_id\"]]"
   ]
  },
  {
   "cell_type": "code",
   "execution_count": 6,
   "id": "3709845f",
   "metadata": {},
   "outputs": [
    {
     "data": {
      "text/plain": [
       "[3515080946464682431,\n",
       " 3515080946464682431,\n",
       " 3515080946464682431,\n",
       " 3515080946464682431,\n",
       " 3515080946464682431,\n",
       " 3515080946464682431,\n",
       " 3515080946464682431,\n",
       " 3515080946464682431,\n",
       " 3515080946464682431,\n",
       " 3515080946464682431]"
      ]
     },
     "execution_count": 6,
     "metadata": {},
     "output_type": "execute_result"
    }
   ],
   "source": [
    "int_user_ids[:10]"
   ]
  },
  {
   "cell_type": "code",
   "execution_count": 7,
   "id": "65057db3",
   "metadata": {},
   "outputs": [],
   "source": [
    "df = pd.DataFrame(int_user_ids,test_transactions[\"amount\"])"
   ]
  },
  {
   "cell_type": "code",
   "execution_count": 8,
   "id": "9a73078f",
   "metadata": {},
   "outputs": [
    {
     "name": "stdout",
     "output_type": "stream",
     "text": [
      "                           0\n",
      "amount                      \n",
      "-335.0   3515080946464682431\n",
      "-1000.0  3515080946464682431\n",
      "-99.0    3515080946464682431\n",
      "-562.0   3515080946464682431\n",
      "-169.0   3515080946464682431\n"
     ]
    }
   ],
   "source": [
    "print(df.head())"
   ]
  },
  {
   "cell_type": "code",
   "execution_count": 9,
   "id": "f8e469b8",
   "metadata": {},
   "outputs": [
    {
     "data": {
      "image/png": "[encoded data removed]",
      "text/plain": [
       "<Figure size 432x288 with 1 Axes>"
      ]
     },
     "metadata": {},
     "output_type": "display_data"
    },
    {
     "data": {
      "text/plain": [
       "<Figure size 432x288 with 0 Axes>"
      ]
     },
     "metadata": {},
     "output_type": "display_data"
    }
   ],
   "source": [
    "plt.title('Transacciones por persona')\n",
    "plt.hist(df, bins = 60)\n",
    "plt.grid(True)\n",
    "plt.show()\n",
    "plt.clf()"
   ]
  },
  {
   "cell_type": "code",
   "execution_count": 10,
   "id": "1d5fa3e4",
   "metadata": {},
   "outputs": [],
   "source": [
    "X=df.to_numpy()"
   ]
  },
  {
   "cell_type": "code",
   "execution_count": 11,
   "id": "2126dcb7",
   "metadata": {},
   "outputs": [],
   "source": [
    "x_scaled=scale(X)"
   ]
  },
  {
   "cell_type": "code",
   "execution_count": 12,
   "id": "d33292a7",
   "metadata": {},
   "outputs": [
    {
     "name": "stdout",
     "output_type": "stream",
     "text": [
      "[[0.66018588]\n",
      " [0.66018588]\n",
      " [0.66018588]\n",
      " ...\n",
      " [1.59199548]\n",
      " [1.59199548]\n",
      " [1.59199548]]\n"
     ]
    }
   ],
   "source": [
    "print(x_scaled)"
   ]
  },
  {
   "cell_type": "code",
   "execution_count": null,
   "id": "23ad0c28",
   "metadata": {},
   "outputs": [],
   "source": [
    "# Modelo\n",
    "modelo_dbscan = DBSCAN(\n",
    "                    eps          = 0.2,\n",
    "                    min_samples  = 5,\n",
    "                    metric       = 'euclidean',\n",
    "                )\n",
    "\n",
    "modelo_dbscan.fit(x_scaled)"
   ]
  },
  {
   "cell_type": "code",
   "execution_count": null,
   "id": "fcf92e1b",
   "metadata": {},
   "outputs": [],
   "source": [
    "# Clasificación\n",
    "labels = modelo_dbscan.labels_\n",
    "fig, ax = plt.subplots(1, 1, figsize=(4.5, 4.5))\n",
    "ax.scatter(\n",
    "    x = X[:, 0],\n",
    "    y = X[:, 1], \n",
    "    c = labels,\n",
    "    marker    = 'o',\n",
    "    edgecolor = 'black'\n",
    ")\n",
    "\n",
    "# Los outliers se identifican con el label -1\n",
    "ax.scatter(\n",
    "    x = X[labels == -1, 0],\n",
    "    y = X[labels == -1, 1], \n",
    "    c = 'red',\n",
    "    marker    = 'o',\n",
    "    edgecolor = 'black',\n",
    "    label = 'outliers'\n",
    ")\n",
    "\n",
    "ax.legend()\n",
    "ax.set_title('Clusterings generados por DBSCAN');"
   ]
  },
  {
   "cell_type": "code",
   "execution_count": null,
   "id": "3193c5ea",
   "metadata": {},
   "outputs": [],
   "source": [
    "# Número de clusters y observaciones \"outliers\"\n",
    "n_clusters = len(set(labels)) - (1 if -1 in labels else 0)\n",
    "n_noise    = list(labels).count(-1)\n",
    "\n",
    "print(f'Número de clusters encontrados: {n_clusters}')\n",
    "print(f'Número de outliers encontrados: {n_noise}')"
   ]
  },
  {
   "cell_type": "markdown",
   "id": "44cb1d2d",
   "metadata": {},
   "source": [
    "Analisis de distribucion de las transacciones entre los usuarios"
   ]
  },
  {
   "cell_type": "code",
   "execution_count": 2,
   "id": "aa3363dc",
   "metadata": {},
   "outputs": [
    {
     "name": "stdout",
     "output_type": "stream",
     "text": [
      "ingrese su nombre\n"
     ]
    }
   ],
   "source": [
    "#Input de usuario\n",
    "print(\"ingrese su nombre\")"
   ]
  },
  {
   "cell_type": "code",
   "execution_count": 3,
   "id": "c2ceffa5",
   "metadata": {},
   "outputs": [
    {
     "name": "stdout",
     "output_type": "stream",
     "text": [
      "Mateo\n"
     ]
    }
   ],
   "source": [
    "nombre_user=str(input())"
   ]
  },
  {
   "cell_type": "code",
   "execution_count": 13,
   "id": "4edae8d8",
   "metadata": {},
   "outputs": [],
   "source": [
    "int_user_ids.append(hash(nombre_user))"
   ]
  },
  {
   "cell_type": "code",
   "execution_count": 14,
   "id": "135231f8",
   "metadata": {},
   "outputs": [
    {
     "name": "stdout",
     "output_type": "stream",
     "text": [
      "Deseas un nuevo proyecto?\n"
     ]
    }
   ],
   "source": [
    "print(\"Deseas un nuevo proyecto?\")"
   ]
  },
  {
   "cell_type": "code",
   "execution_count": 15,
   "id": "cb0372e1",
   "metadata": {},
   "outputs": [
    {
     "name": "stdout",
     "output_type": "stream",
     "text": [
      "SI\n"
     ]
    }
   ],
   "source": [
    "si=str(input())"
   ]
  },
  {
   "cell_type": "code",
   "execution_count": 16,
   "id": "b29a423e",
   "metadata": {},
   "outputs": [
    {
     "name": "stdout",
     "output_type": "stream",
     "text": [
      "Selecciona tus reglas\n",
      "A: 5% de mis ingresos\n",
      "B: 25% de mis gastos en McCooper\n",
      "C: 15% de mis ingresos cuando gane partido Deportes Temuco\n"
     ]
    }
   ],
   "source": [
    "if(si==\"SI\"):\n",
    "    print(\"Selecciona tus reglas\")\n",
    "    print(\"A: 5% de mis ingresos\")\n",
    "    print(\"B: 25% de mis gastos en McCooper\")\n",
    "    print(\"C: 15% de mis ingresos cuando gane partido Deportes Temuco\")"
   ]
  },
  {
   "cell_type": "code",
   "execution_count": 17,
   "id": "053e4346",
   "metadata": {},
   "outputs": [
    {
     "name": "stdout",
     "output_type": "stream",
     "text": [
      "A\n"
     ]
    }
   ],
   "source": [
    "A=str(input())"
   ]
  },
  {
   "cell_type": "code",
   "execution_count": 19,
   "id": "0c549489",
   "metadata": {},
   "outputs": [
    {
     "name": "stdout",
     "output_type": "stream",
     "text": [
      "En cuanto estimas tus ingresos mensuales\n"
     ]
    }
   ],
   "source": [
    "if(A==\"A\"):\n",
    "    print(\"En cuanto estimas tus ingresos mensuales\")"
   ]
  },
  {
   "cell_type": "code",
   "execution_count": 20,
   "id": "41090b2b",
   "metadata": {},
   "outputs": [
    {
     "name": "stdout",
     "output_type": "stream",
     "text": [
      "300000\n"
     ]
    }
   ],
   "source": [
    "ingresos=int(input())"
   ]
  },
  {
   "cell_type": "code",
   "execution_count": 26,
   "id": "ee8f8400",
   "metadata": {},
   "outputs": [
    {
     "name": "stdout",
     "output_type": "stream",
     "text": [
      "Buenisimo! esperamos que ahorres  15000.0  al mes \n"
     ]
    }
   ],
   "source": [
    "print(\"Buenisimo! esperamos que ahorres \", ingresos*0.05, \" al mes \")"
   ]
  },
  {
   "cell_type": "code",
   "execution_count": 27,
   "id": "9cf0f8c5",
   "metadata": {},
   "outputs": [],
   "source": [
    "gastos=275000\n",
    "ahorro=ingresos-gastos"
   ]
  },
  {
   "cell_type": "code",
   "execution_count": 28,
   "id": "9696e8a1",
   "metadata": {},
   "outputs": [
    {
     "name": "stdout",
     "output_type": "stream",
     "text": [
      "25000\n"
     ]
    }
   ],
   "source": [
    "print(ahorro)"
   ]
  },
  {
   "cell_type": "code",
   "execution_count": 30,
   "id": "d018b19e",
   "metadata": {},
   "outputs": [
    {
     "name": "stdout",
     "output_type": "stream",
     "text": [
      "Genial vas avanzando muy bien en tus ahorros\n"
     ]
    }
   ],
   "source": [
    "if(ahorro>ingresos*0.05):\n",
    "    print(\"Genial vas avanzando muy bien en tus ahorros\")\n",
    "else:\n",
    "    print(\"Te gustaria que reajustemos tu plan de ahorro\")"
   ]
  },
  {
   "cell_type": "code",
   "execution_count": 31,
   "id": "e17dabc9",
   "metadata": {},
   "outputs": [
    {
     "name": "stdout",
     "output_type": "stream",
     "text": [
      "Ajustamos tu plan de ahorro?\n",
      "SI - NOSI\n"
     ]
    }
   ],
   "source": [
    "print(\"Ajustamos tu plan de ahorro?\")\n",
    "sino=str(input(\"SI - NO\"))"
   ]
  },
  {
   "cell_type": "code",
   "execution_count": 32,
   "id": "7e5203ce",
   "metadata": {},
   "outputs": [
    {
     "name": "stdout",
     "output_type": "stream",
     "text": [
      "Intentemos algo mas ambicioso! ahora tratermos de ahorrar el 7% de tus ingresos\n"
     ]
    }
   ],
   "source": [
    "if(sino==\"SI\"):\n",
    "    print(\"Intentemos algo mas ambicioso! ahora tratermos de ahorrar el 7% de tus ingresos\")"
   ]
  },
  {
   "cell_type": "markdown",
   "id": "bc563026",
   "metadata": {},
   "source": [
    "Recursivo"
   ]
  },
  {
   "cell_type": "code",
   "execution_count": null,
   "id": "27cad11a",
   "metadata": {},
   "outputs": [],
   "source": []
  }
 ],
 "metadata": {
  "kernelspec": {
   "display_name": "Python 3",
   "language": "python",
   "name": "python3"
  },
  "language_info": {
   "codemirror_mode": {
    "name": "ipython",
    "version": 3
   },
   "file_extension": ".py",
   "mimetype": "text/x-python",
   "name": "python",
   "nbconvert_exporter": "python",
   "pygments_lexer": "ipython3",
   "version": "3.8.8"
  }
 },
 "nbformat": 4,
 "nbformat_minor": 5
}
